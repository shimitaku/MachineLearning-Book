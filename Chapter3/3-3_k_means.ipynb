{
  "nbformat": 4,
  "nbformat_minor": 0,
  "metadata": {
    "colab": {
      "name": "3-2_k-means.ipynb",
      "provenance": []
    },
    "kernelspec": {
      "name": "python3",
      "display_name": "Python 3"
    }
  },
  "cells": [
    {
      "cell_type": "code",
      "metadata": {
        "id": "Rg9aXCOJUM0K",
        "colab_type": "code",
        "colab": {}
      },
      "source": [
        "# mglearnのインストール\n",
        "!pip install mglearn\n",
        "\n",
        "# 必要なライブラリのインポート\n",
        "import mglearn\n",
        "import matplotlib.pyplot as plt\n",
        "plt.style.use('seaborn-darkgrid') \n",
        "\n",
        "mglearn.plots.plot_kmeans_algorithm()"
      ],
      "execution_count": 0,
      "outputs": []
    },
    {
      "cell_type": "code",
      "metadata": {
        "id": "rIB5lUrWUWmX",
        "colab_type": "code",
        "colab": {}
      },
      "source": [
        "# 必要なライブラリのインポート\n",
        "from sklearn.datasets import make_blobs\n",
        "\n",
        "# データセットの準備\n",
        "X, y = make_blobs(n_samples=1500, n_features=2, centers=2, random_state=2)\n",
        "\n",
        "# 特徴量（横軸）のスケールを拡大\n",
        "X[:, 0] = X[:, 0] * 10\n",
        "\n",
        "# データの分布傾向の可視化\n",
        "plt.scatter(X[:, 0], X[:, 1])\n",
        "plt.title(\"Blobs Data \")\n",
        "plt.show()"
      ],
      "execution_count": 0,
      "outputs": []
    },
    {
      "cell_type": "code",
      "metadata": {
        "id": "B_z9J0myVLNF",
        "colab_type": "code",
        "colab": {}
      },
      "source": [
        "# 必要なライブラリのインポート\n",
        "from sklearn.cluster import KMeans\n",
        "from sklearn.preprocessing import MinMaxScaler\n",
        "\n",
        "# データの正規化\n",
        "X_norm = MinMaxScaler().fit_transform(X)\n",
        "\n",
        "# k-meansの適用（クラスタ数は2）\n",
        "kmeans = KMeans(n_clusters=2, random_state=0)\n",
        "y_pred = kmeans.fit_predict(X_norm)\n",
        "\n",
        "# クラスタリング結果の可視化\n",
        "plt.figure(figsize=(10, 5))\n",
        "plt.subplot(121)\n",
        "plt.scatter(X_norm[:, 0], X_norm[:, 1], c=~y_pred, cmap='bwr')\n",
        "plt.title(\"(a) k-means cluster\")\n",
        "plt.subplot(122)\n",
        "plt.scatter(X_norm[:, 0], X_norm[:, 1], c=y, cmap='bwr')\n",
        "plt.title(\"(b) true cluster\")\n",
        "plt.show()"
      ],
      "execution_count": 0,
      "outputs": []
    },
    {
      "cell_type": "code",
      "metadata": {
        "id": "mHBxsM7nVW9a",
        "colab_type": "code",
        "colab": {}
      },
      "source": [
        "# k-meansの適用（クラスタ数は2）\n",
        "kmeans = KMeans(n_clusters=2, random_state=0)\n",
        "y_pred = kmeans.fit_predict(X)\n",
        "\n",
        "# クラスタリング結果の可視化\n",
        "plt.figure(figsize=(10, 5))\n",
        "plt.subplot(121)\n",
        "plt.scatter(X[:, 0], X[:, 1], c=~y_pred, cmap='bwr')\n",
        "plt.title(\"(a) k-means cluster\")\n",
        "plt.subplot(122)\n",
        "plt.scatter(X[:, 0], X[:, 1], c=y, cmap='bwr')\n",
        "plt.title(\"(b) true cluster\")\n",
        "plt.show()"
      ],
      "execution_count": 0,
      "outputs": []
    }
  ]
}