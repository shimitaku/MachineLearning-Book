{
  "nbformat": 4,
  "nbformat_minor": 0,
  "metadata": {
    "colab": {
      "name": "3-1_PCA.ipynb",
      "provenance": [],
      "collapsed_sections": []
    },
    "kernelspec": {
      "name": "python3",
      "display_name": "Python 3"
    }
  },
  "cells": [
    {
      "cell_type": "code",
      "metadata": {
        "id": "Ac_mHcds11XD",
        "colab_type": "code",
        "colab": {}
      },
      "source": [
        "# 必要なライブラリのインポート\n",
        "import numpy as np\n",
        "import matplotlib.pyplot as plt\n",
        "plt.style.use('seaborn-darkgrid')\n",
        "\n",
        "# 乱数のシードを固定\n",
        "np.random.seed(0)\n",
        "\n",
        "# 2次元の正規分布で模擬データ300人分を作成\n",
        "mean = [165, 60]  # 身長、体重の平均値\n",
        "cov = [[15, 20], [20, 10]]  # 分散共分散行列\n",
        "X = np.random.multivariate_normal(mean, cov, 300)  # 2次元データ生成\n",
        "\n",
        "# グラフを描画\n",
        "plt.figure(figsize=(6, 6))\n",
        "plt.scatter(X.T[0], X.T[1], marker='^')\n",
        "plt.xlim(150, 180)\n",
        "plt.ylim(45, 75)\n",
        "plt.xlabel(\"height\")\n",
        "plt.ylabel(\"weight\")\n",
        "plt.show()"
      ],
      "execution_count": 0,
      "outputs": []
    },
    {
      "cell_type": "code",
      "metadata": {
        "id": "VkcoLsMd1_Pi",
        "colab_type": "code",
        "colab": {}
      },
      "source": [
        "# 必要なライブラリのインポート\n",
        "from sklearn import preprocessing, decomposition\n",
        "\n",
        "# データの正規化\n",
        "sc = preprocessing.StandardScaler()\n",
        "sc.fit(X)\n",
        "X_std = sc.transform(X)\n",
        "\n",
        "# 主成分分析実施\n",
        "pca = decomposition.PCA(random_state=0)\n",
        "pca.fit(X_std)  # PCAの計算\n",
        "X_pca = pca.transform(X_std)  # PCAをX_stdに実施\n",
        "\n",
        "# 主成分分析の結果を見る\n",
        "print(\"主成分の分散説明率\")\n",
        "print(pca.explained_variance_ratio_)\n",
        "\n",
        "print(\"固有ベクトル\")\n",
        "print(pca.components_)"
      ],
      "execution_count": 0,
      "outputs": []
    },
    {
      "cell_type": "code",
      "metadata": {
        "id": "0fnHw6RF2dgw",
        "colab_type": "code",
        "colab": {}
      },
      "source": [
        "# 第1主成分の軸を描画するために軸上の2点が欲しい\n",
        "# 平均値に、正規化操作分を戻した固有ベクトルを足す（または引く）\n",
        "pca_point1 = sc.mean_ - sc.inverse_transform(pca.components_)[0]\n",
        "pca_point2 = sc.mean_ + sc.inverse_transform(pca.components_)[0]\n",
        "pca_point = np.c_[pca_point1, pca_point2]  # 点を列方向に足す\n",
        "\n",
        "# データを描画\n",
        "plt.figure(figsize=(6, 6))\n",
        "plt.scatter(X.T[0], X.T[1], marker='^')\n",
        "plt.plot(pca_point[0], pca_point[1], color='black',\n",
        "         label='first_PC_axis')\n",
        "plt.xlim(150, 180)\n",
        "plt.ylim(45, 75)\n",
        "plt.xlabel(\"height\")\n",
        "plt.ylabel(\"weight\")\n",
        "plt.legend()\n",
        "plt.show()"
      ],
      "execution_count": 0,
      "outputs": []
    },
    {
      "cell_type": "code",
      "metadata": {
        "id": "tv81p3GJ3S6e",
        "colab_type": "code",
        "colab": {}
      },
      "source": [
        "# とあるデータをPCAする場合\n",
        "data = (160, 50)\n",
        "data_std = sc.transform([data])  # 正規化\n",
        "data_pca = pca.transform(data_std)  # PCA実施\n",
        "print(data_pca)"
      ],
      "execution_count": 0,
      "outputs": []
    }
  ]
}