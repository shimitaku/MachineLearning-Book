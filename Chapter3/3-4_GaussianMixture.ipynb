{
  "nbformat": 4,
  "nbformat_minor": 0,
  "metadata": {
    "colab": {
      "name": "3-3_GaussianMixture.ipynb",
      "provenance": [],
      "collapsed_sections": []
    },
    "kernelspec": {
      "name": "python3",
      "display_name": "Python 3"
    }
  },
  "cells": [
    {
      "cell_type": "code",
      "metadata": {
        "id": "sedab1lkgZFP",
        "colab_type": "code",
        "colab": {}
      },
      "source": [
        "# 必要なライブラリのインポート\n",
        "import numpy as np\n",
        "import matplotlib.pyplot as plt\n",
        "from sklearn.datasets import make_blobs\n",
        "plt.style.use('seaborn-darkgrid') \n",
        "\n",
        "# サンプルデータの準備\n",
        "X, y = make_blobs(n_samples=1500, centers=3, random_state=170)\n",
        "\n",
        "# 変換行列の適用\n",
        "transformation = [[0.5, -0.6], [-0.3, 0.8]]\n",
        "X_aniso = np.dot(X, transformation)\n",
        "\n",
        "# 変換結果の可視化\n",
        "plt.figure(figsize=(10, 5))\n",
        "plt.subplot(121)\n",
        "plt.title(\"(a) Original\")\n",
        "plt.scatter(X[:, 0], X[:, 1], c=y, cmap='brg')\n",
        "plt.subplot(122)\n",
        "plt.title(\"(b) Anisotropically\")\n",
        "plt.scatter(X_aniso[:, 0], X_aniso[:, 1], c=y, cmap='brg')\n",
        "plt.show()"
      ],
      "execution_count": 0,
      "outputs": []
    },
    {
      "cell_type": "code",
      "metadata": {
        "id": "egpmYmWbgngR",
        "colab_type": "code",
        "colab": {}
      },
      "source": [
        "# 必要なライブラリのインポート\n",
        "from sklearn.cluster import KMeans\n",
        "from sklearn.mixture import GaussianMixture\n",
        "from sklearn.preprocessing import StandardScaler\n",
        "\n",
        "# データの標準化\n",
        "X_norm = StandardScaler().fit_transform(X_aniso)\n",
        "\n",
        "# k-meansの適用（クラスタ数は3）\n",
        "kmeans = KMeans(n_clusters=3, random_state=5)\n",
        "kmeans.fit(X_norm)\n",
        "kmeans_y_pred = kmeans.predict(X_norm)\n",
        "\n",
        "# ガウス混合モデルの適用（混合要素数は3）\n",
        "gmm = GaussianMixture(n_components=3, random_state=5)\n",
        "gmm.fit(X_norm)\n",
        "gmm_y_pred = gmm.predict(X_norm)\n",
        "\n",
        "# クラスタリング結果の可視化\n",
        "plt.figure(figsize=(15, 5))\n",
        "plt.subplot(131)\n",
        "plt.title(\"(a) true cluster\")\n",
        "plt.scatter(X_norm[:, 0], X_norm[:, 1], c=y, cmap='brg')\n",
        "plt.subplot(132)\n",
        "plt.title(\"(b) k-means cluster\")\n",
        "plt.scatter(X_norm[:, 0], X_norm[:, 1], c=kmeans_y_pred, cmap='brg')\n",
        "plt.subplot(133)\n",
        "plt.title(\"(c) GMM cluster\")\n",
        "plt.scatter(X_norm[:, 0], X_norm[:, 1], c=gmm_y_pred, cmap='brg')\n",
        "plt.show()"
      ],
      "execution_count": 0,
      "outputs": []
    },
    {
      "cell_type": "code",
      "metadata": {
        "id": "O6I_cwrWhDvY",
        "colab_type": "code",
        "colab": {}
      },
      "source": [
        "# 新しい入力データのクラスタ所属確率を計算\n",
        "new_data = [[-0.5, 0.3]]\n",
        "probs = gmm.predict_proba(new_data)[0]\n",
        "\n",
        "# 結果の表示\n",
        "for idx, prob in enumerate(probs):\n",
        "  print(f'cluster{idx} probability:{prob:.3f}')"
      ],
      "execution_count": 0,
      "outputs": []
    }
  ]
}