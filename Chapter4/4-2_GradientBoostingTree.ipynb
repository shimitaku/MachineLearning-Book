{
  "nbformat": 4,
  "nbformat_minor": 0,
  "metadata": {
    "colab": {
      "name": "4-1_GradientBoostingTree.ipynb",
      "provenance": [],
      "collapsed_sections": []
    },
    "kernelspec": {
      "name": "python3",
      "display_name": "Python 3"
    }
  },
  "cells": [
    {
      "cell_type": "code",
      "metadata": {
        "id": "4M_wv9WUFCBg",
        "colab_type": "code",
        "colab": {}
      },
      "source": [
        "# 必要なライブラリのインポート\n",
        "from sklearn import datasets\n",
        "from sklearn.model_selection import train_test_split\n",
        "\n",
        "# データセットの準備\n",
        "X, y = datasets.make_classification(n_classes=2, n_features=20, n_samples=500, random_state=0)\n",
        "X_train, X_test, y_train, y_test = train_test_split(X, y, random_state=0)"
      ],
      "execution_count": 0,
      "outputs": []
    },
    {
      "cell_type": "code",
      "metadata": {
        "id": "gg-q1zsjFKAV",
        "colab_type": "code",
        "colab": {}
      },
      "source": [
        "# 必要なライブラリのインポート\n",
        "from sklearn import ensemble\n",
        "\n",
        "# Gradient Boostionを適用\n",
        "gb = ensemble.GradientBoostingClassifier(n_estimators=500, random_state=0)\n",
        "\n",
        "# 比較用にRandom Forestを適用\n",
        "rf = ensemble.RandomForestClassifier(n_estimators=500, random_state=0)\n",
        "\n",
        "gb.fit(X_train, y_train)\n",
        "rf.fit(X_train, y_train)\n",
        "\n",
        "print(f'Gradient Boosting Train score: {gb.score(X_train, y_train)}')\n",
        "print(f'Randome Forest Train score: {rf.score(X_train, y_train)}')\n",
        "print(f'Gradient Boosting Test score: {gb.score(X_test, y_test)}')\n",
        "print(f'Randome Forest Test score: {rf.score(X_test, y_test)}')"
      ],
      "execution_count": 0,
      "outputs": []
    },
    {
      "cell_type": "code",
      "metadata": {
        "id": "VaHXIwvMF2hD",
        "colab_type": "code",
        "colab": {}
      },
      "source": [
        "# early stoppingを実行するGradient Boostingを適用\n",
        "gbes = ensemble.GradientBoostingClassifier(n_estimators=500,\n",
        "                                               validation_fraction=0.25,\n",
        "                                               n_iter_no_change=5,\n",
        "                                               random_state=0)\n",
        "gbes.fit(X_train, y_train)\n",
        "\n",
        "print(f'GB with early stopping Train score: {gbes.score(X_train, y_train)}')\n",
        "print(f'GB with early stopping Test score: {gbes.score(X_test, y_test)}')\n",
        "print(f'The number of estimators: {len(gbes.estimators_)}')"
      ],
      "execution_count": 0,
      "outputs": []
    }
  ]
}