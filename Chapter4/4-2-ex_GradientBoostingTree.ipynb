{
  "nbformat": 4,
  "nbformat_minor": 0,
  "metadata": {
    "colab": {
      "name": "4-1-ex_GradientBoostingTree.ipynb",
      "provenance": [],
      "collapsed_sections": []
    },
    "kernelspec": {
      "name": "python3",
      "display_name": "Python 3"
    }
  },
  "cells": [
    {
      "cell_type": "code",
      "metadata": {
        "id": "QalLGeETxyj-",
        "colab_type": "code",
        "colab": {}
      },
      "source": [
        "import pandas as pd\n",
        "import numpy as np"
      ],
      "execution_count": 0,
      "outputs": []
    },
    {
      "cell_type": "code",
      "metadata": {
        "id": "FrWZ56x9AB77",
        "colab_type": "code",
        "colab": {}
      },
      "source": [
        "a_values = [26, 32, 34, 12, 16, 31]\n",
        "b_values = [1,0,0,0,1,1]\n",
        "c_values= [1,1,0,0,1,1]\n",
        "\n",
        "my_dict = {\"A\": a_values, \"B\": b_values, \"C\":c_values}"
      ],
      "execution_count": 0,
      "outputs": []
    },
    {
      "cell_type": "code",
      "metadata": {
        "id": "RSFuRYaSAW3Q",
        "colab_type": "code",
        "colab": {}
      },
      "source": [
        "my_df = pd.DataFrame.from_dict(my_dict)\n",
        "my_df"
      ],
      "execution_count": 0,
      "outputs": []
    },
    {
      "cell_type": "code",
      "metadata": {
        "id": "_nWKDSlSAZhQ",
        "colab_type": "code",
        "colab": {}
      },
      "source": [
        "from sklearn.tree import DecisionTreeClassifier\n",
        "clf = DecisionTreeClassifier(random_state=0, max_depth=2)\n",
        "clf.fit(my_df.iloc[:,[0,1]], my_df.iloc[:,2])  "
      ],
      "execution_count": 0,
      "outputs": []
    },
    {
      "cell_type": "code",
      "metadata": {
        "id": "fH2T9XmFAwJA",
        "colab_type": "code",
        "colab": {}
      },
      "source": [
        "# 必要なライブラリのインポート\n",
        "import graphviz\n",
        "from sklearn.tree import export_graphviz\n",
        "\n",
        "# Graphviz形式で決定木をエクスポート\n",
        "dot_data = export_graphviz(clf, out_file=None, impurity=False, filled=True, class_names=[\"0\",\"1\"])\n",
        "\n",
        "# Graphviz形式の決定木を表示\n",
        "graph = graphviz.Source(dot_data)  \n",
        "graph\n"
      ],
      "execution_count": 0,
      "outputs": []
    },
    {
      "cell_type": "markdown",
      "metadata": {
        "id": "koicnSyqWTIl",
        "colab_type": "text"
      },
      "source": [
        "# 木の数1本のGBT\n"
      ]
    },
    {
      "cell_type": "code",
      "metadata": {
        "id": "9ULlfFaEAwjw",
        "colab_type": "code",
        "colab": {}
      },
      "source": [
        "# 必要なライブラリのインポート\n",
        "from sklearn import ensemble\n",
        "\n",
        "# Gradient Boostionを適用\n",
        "gb = ensemble.GradientBoostingClassifier(n_estimators=1, random_state=0, max_depth=2, learning_rate=0.5)"
      ],
      "execution_count": 0,
      "outputs": []
    },
    {
      "cell_type": "code",
      "metadata": {
        "id": "imk8HbqlS3NV",
        "colab_type": "code",
        "colab": {}
      },
      "source": [
        "gb.fit(my_df.iloc[:,[0,1]], my_df.iloc[:,2]) "
      ],
      "execution_count": 0,
      "outputs": []
    },
    {
      "cell_type": "code",
      "metadata": {
        "id": "Zwch7RBFV-LT",
        "colab_type": "code",
        "colab": {}
      },
      "source": [
        "# 確率\n",
        "gb.predict_proba(my_df.iloc[:,[0,1]])"
      ],
      "execution_count": 0,
      "outputs": []
    },
    {
      "cell_type": "code",
      "metadata": {
        "id": "yFE5h49wTPxz",
        "colab_type": "code",
        "colab": {}
      },
      "source": [
        "# 必要なライブラリのインポート\n",
        "import graphviz\n",
        "from sklearn.tree import export_graphviz\n",
        "\n",
        "# Graphviz形式で決定木をエクスポート\n",
        "dot_data = export_graphviz(gb.estimators_[0][0], out_file=None, impurity=False, filled=True, class_names=[\"0\",\"1\"])\n",
        "\n",
        "# Graphviz形式の決定木を表示\n",
        "graph = graphviz.Source(dot_data)  \n",
        "graph"
      ],
      "execution_count": 0,
      "outputs": []
    },
    {
      "cell_type": "markdown",
      "metadata": {
        "id": "wBuIidOPWd8J",
        "colab_type": "text"
      },
      "source": [
        "# 木の数2本のGBT"
      ]
    },
    {
      "cell_type": "code",
      "metadata": {
        "id": "lBjbUO9SWkuT",
        "colab_type": "code",
        "colab": {}
      },
      "source": [
        "# 必要なライブラリのインポート\n",
        "from sklearn import ensemble\n",
        "\n",
        "# Gradient Boostionを適用\n",
        "gb = ensemble.GradientBoostingClassifier(n_estimators=2, random_state=0, max_depth=2, learning_rate=0.5)"
      ],
      "execution_count": 0,
      "outputs": []
    },
    {
      "cell_type": "code",
      "metadata": {
        "id": "qRB8QJp-Wlvb",
        "colab_type": "code",
        "colab": {}
      },
      "source": [
        "gb.fit(my_df.iloc[:,[0,1]], my_df.iloc[:,2]) "
      ],
      "execution_count": 0,
      "outputs": []
    },
    {
      "cell_type": "code",
      "metadata": {
        "id": "tTEN10OKWnr7",
        "colab_type": "code",
        "colab": {}
      },
      "source": [
        "# 確率\n",
        "gb.predict_proba(my_df.iloc[:,[0,1]])"
      ],
      "execution_count": 0,
      "outputs": []
    },
    {
      "cell_type": "code",
      "metadata": {
        "id": "Sy_gFScyWpE7",
        "colab_type": "code",
        "colab": {}
      },
      "source": [
        "# 必要なライブラリのインポート\n",
        "import graphviz\n",
        "from sklearn.tree import export_graphviz\n",
        "\n",
        "# Graphviz形式で決定木をエクスポート\n",
        "dot_data = export_graphviz(gb.estimators_[0][0], out_file=None, impurity=False, filled=True, class_names=[\"0\",\"1\"])\n",
        "\n",
        "# Graphviz形式の決定木を表示\n",
        "graph = graphviz.Source(dot_data)  \n",
        "graph"
      ],
      "execution_count": 0,
      "outputs": []
    },
    {
      "cell_type": "code",
      "metadata": {
        "id": "lbvhG3y6aRuE",
        "colab_type": "code",
        "colab": {}
      },
      "source": [
        "# 必要なライブラリのインポート\n",
        "import graphviz\n",
        "from sklearn.tree import export_graphviz\n",
        "\n",
        "# Graphviz形式で決定木をエクスポート\n",
        "dot_data = export_graphviz(gb.estimators_[1][0], out_file=None, impurity=False, filled=True, class_names=[\"0\",\"1\"])\n",
        "\n",
        "# Graphviz形式の決定木を表示\n",
        "graph = graphviz.Source(dot_data)  \n",
        "graph"
      ],
      "execution_count": 0,
      "outputs": []
    }
  ]
}