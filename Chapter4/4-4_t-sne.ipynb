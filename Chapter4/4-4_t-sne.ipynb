{
  "nbformat": 4,
  "nbformat_minor": 0,
  "metadata": {
    "colab": {
      "name": "4-3_t-sne.ipynb",
      "provenance": [],
      "collapsed_sections": []
    },
    "kernelspec": {
      "name": "python3",
      "display_name": "Python 3"
    }
  },
  "cells": [
    {
      "cell_type": "code",
      "metadata": {
        "id": "vDjU8Huy1g5y",
        "colab_type": "code",
        "colab": {}
      },
      "source": [
        "# 必要なライブラリのインポート\n",
        "import matplotlib.pyplot as plt\n",
        "from mpl_toolkits.mplot3d import Axes3D\n",
        "from sklearn.datasets.samples_generator import make_s_curve\n",
        "\n",
        "# データセットの準備\n",
        "X, color = make_s_curve(n_samples=1000, random_state=0)\n",
        "X[:, 1] -= 1.0\n",
        "X[:, 1] *= 2.0\n",
        "X[:, 2] *= 0.5\n",
        "\n",
        "# データの可視化\n",
        "fig = plt.figure(figsize=(4, 4))\n",
        "ax = fig.add_subplot(111, projection='3d')\n",
        "ax.scatter(X[:, 0], X[:, 1], X[:, 2], c=color, cmap=plt.cm.Spectral)\n",
        "ax.view_init(4, -72)\n",
        "ax.set_title('S-Curve Dataset')\n",
        "plt.show()"
      ],
      "execution_count": 0,
      "outputs": []
    },
    {
      "cell_type": "code",
      "metadata": {
        "id": "dkLi1Run1qRs",
        "colab_type": "code",
        "colab": {}
      },
      "source": [
        "# 必要なライブラリのインポート\n",
        "from sklearn.manifold import TSNE\n",
        "from matplotlib.ticker import NullFormatter\n",
        "\n",
        "# t-SNEの適用\n",
        "tsne = TSNE(n_components=2, random_state=0)\n",
        "y_tsne = tsne.fit_transform(X)\n",
        "\n",
        "# 次元圧縮結果の可視化\n",
        "plt.scatter(y_tsne[:, 0], y_tsne[:, 1], c=color, cmap=plt.cm.Spectral)\n",
        "plt.title('t-SNE Decomposition')\n",
        "plt.gca().xaxis.set_major_formatter(NullFormatter())\n",
        "plt.gca().yaxis.set_major_formatter(NullFormatter())\n",
        "plt.show()"
      ],
      "execution_count": 0,
      "outputs": []
    },
    {
      "cell_type": "code",
      "metadata": {
        "id": "0C6YH9do2GDb",
        "colab_type": "code",
        "colab": {}
      },
      "source": [
        "# 必要なライブラリのインポート\n",
        "from sklearn.decomposition import PCA\n",
        "\n",
        "# PCAの適用\n",
        "pca = PCA(random_state=0)\n",
        "y_pca = pca.fit_transform(X)\n",
        "\n",
        "# 次元圧縮結果の可視化\n",
        "plt.scatter(y_pca[:, 0], y_pca[:, 1], c=color, cmap=plt.cm.Spectral)\n",
        "plt.title('PCA Decomposition')\n",
        "plt.gca().xaxis.set_major_formatter(NullFormatter())\n",
        "plt.gca().yaxis.set_major_formatter(NullFormatter())\n",
        "plt.show()"
      ],
      "execution_count": 0,
      "outputs": []
    }
  ]
}