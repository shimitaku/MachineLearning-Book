{
  "nbformat": 4,
  "nbformat_minor": 0,
  "metadata": {
    "colab": {
      "name": "4-2_Elbow-Silhouette.ipynb",
      "provenance": [],
      "collapsed_sections": []
    },
    "kernelspec": {
      "name": "python3",
      "display_name": "Python 3"
    }
  },
  "cells": [
    {
      "cell_type": "code",
      "metadata": {
        "id": "8A25TneY_MT7",
        "colab_type": "code",
        "colab": {}
      },
      "source": [
        "# 必要なライブラリのインポート\n",
        "import matplotlib.pyplot as plt\n",
        "from sklearn.datasets import make_blobs\n",
        "from sklearn.preprocessing import MinMaxScaler\n",
        "plt.style.use('seaborn-darkgrid')\n",
        "\n",
        "# データセットの準備\n",
        "X, y = make_blobs(n_samples=1500, n_features=2, centers=2, random_state=3)\n",
        "\n",
        "# データの正規化\n",
        "X_norm = MinMaxScaler().fit_transform(X)\n",
        "\n",
        "# データの分布傾向の可視化\n",
        "plt.scatter(X_norm[:, 0], X_norm[:, 1])\n",
        "plt.title(\"Blobs Data \")\n",
        "plt.show()"
      ],
      "execution_count": 0,
      "outputs": []
    },
    {
      "cell_type": "code",
      "metadata": {
        "id": "A70tesYX_XHK",
        "colab_type": "code",
        "colab": {}
      },
      "source": [
        "# 必要なライブラリのインポート\n",
        "from sklearn.cluster import KMeans\n",
        "\n",
        "# クラスタ内誤差平方和を格納するリスト\n",
        "sse = []\n",
        "\n",
        "for i in range(1, 11):\n",
        "  # k-meansの適用\n",
        "  kmeans = KMeans(n_clusters=i, random_state=0)\n",
        "  kmeans.fit(X_norm)\n",
        "  # クラスタ内誤差平方和をリストに追加\n",
        "  sse.append(kmeans.inertia_)\n",
        "\n",
        "# クラスタリング結果の可視化\n",
        "plt.ylabel('SSE')\n",
        "plt.xlabel('Number of clusters')\n",
        "plt.xticks(range(1,11))\n",
        "plt.plot(range(1,11), sse, marker='o')\n",
        "plt.show()"
      ],
      "execution_count": 0,
      "outputs": []
    },
    {
      "cell_type": "code",
      "metadata": {
        "id": "YDcplWVQ_sfR",
        "colab_type": "code",
        "colab": {}
      },
      "source": [
        "# データセットの準備（クラスタ数を3に設定）\n",
        "X, y = make_blobs(n_samples=1500, n_features=2, centers=3, random_state=2)\n",
        "\n",
        "# データの正規化\n",
        "X_norm = MinMaxScaler().fit_transform(X)\n",
        "\n",
        "# クラスタ内誤差平方和を格納するリスト\n",
        "sse = []\n",
        "\n",
        "for i in range(1, 11):\n",
        "  # k-meansの適用\n",
        "  kmeans = KMeans(n_clusters=i, random_state=0)\n",
        "  kmeans.fit(X_norm)\n",
        "  # クラスタ内誤差平方和をリスト追加\n",
        "  sse.append(kmeans.inertia_)\n",
        "\n",
        "# クラスタリング結果の可視化\n",
        "plt.ylabel('SSE')\n",
        "plt.xlabel('Number of clusters')\n",
        "plt.xticks(range(1,11))\n",
        "plt.plot(range(1,11), sse, marker='o')\n",
        "plt.show()"
      ],
      "execution_count": 0,
      "outputs": []
    },
    {
      "cell_type": "code",
      "metadata": {
        "id": "Nr30dOuY_9XR",
        "colab_type": "code",
        "colab": {}
      },
      "source": [
        "# 必要なライブラリのインポート\n",
        "from sklearn.metrics import silhouette_samples\n",
        "from sklearn.metrics import silhouette_score\n",
        "import matplotlib.cm as cm\n",
        "import numpy as np\n",
        "\n",
        "# データセットの準備\n",
        "n_clusters = 3\n",
        "X, y = make_blobs(n_samples=1500, n_features=2, centers=3, random_state=3)\n",
        "\n",
        "# データの正規化\n",
        "X_norm = MinMaxScaler().fit_transform(X)\n",
        "\n",
        "# k-meansの適用\n",
        "kmeans = KMeans(n_clusters=n_clusters, random_state=0)\n",
        "cluster_labels = kmeans.fit_predict(X_norm)\n",
        "\n",
        "silhouette_vals = silhouette_samples(X_norm, cluster_labels, metric='euclidean')\n",
        "\n",
        "y_lower = 10\n",
        "yticks = []\n",
        "\n",
        "\n",
        "for i in range(n_clusters):\n",
        "        ith_silhouette_vals = silhouette_vals[cluster_labels==i]\n",
        "        ith_silhouette_vals.sort()\n",
        "        \n",
        "        size_cluster_i = ith_silhouette_vals.shape[0]\n",
        "        y_upper = y_lower + size_cluster_i                # クラスタごとにサンプル数を足しy軸の上限をセット\n",
        "        color = cm.jet(float(i)/n_clusters)               # 色の値をセット\n",
        "        plt.barh(range(y_lower, y_upper),                 # 水平方向の棒グラフを描画（底辺の範囲を指定）\n",
        "                         ith_silhouette_vals,             # 棒グラフの幅\n",
        "                         height=1.0,                      # 棒グラフの高さ\n",
        "                         color=color)                     # 棒グラフの色\n",
        "        yticks.append((y_lower + y_upper)/2)             # クラスタラベルを表示する位置\n",
        "        y_lower += len(ith_silhouette_vals)               # 底辺の値に棒グラフの幅を足す\n",
        "\n",
        "silhouette_avg = silhouette_score(X_norm, cluster_labels) \n",
        "plt.axvline(silhouette_avg, color=\"red\", linestyle=\"--\")  # シルエット係数の平均値の箇所に破線を引く \n",
        "plt.yticks(yticks, range(1, n_clusters + 1))                  # クラスタラベルを表示\n",
        "plt.ylabel('Cluster')\n",
        "plt.xlabel('silhouette coefficient')\n",
        "plt.show()"
      ],
      "execution_count": 0,
      "outputs": []
    }
  ]
}