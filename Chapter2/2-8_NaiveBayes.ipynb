{
  "nbformat": 4,
  "nbformat_minor": 0,
  "metadata": {
    "colab": {
      "name": "2-7_NaiveBayes.ipynb",
      "provenance": [],
      "collapsed_sections": []
    },
    "kernelspec": {
      "name": "python3",
      "display_name": "Python 3"
    }
  },
  "cells": [
    {
      "cell_type": "code",
      "metadata": {
        "id": "6hJGRA8CTxKP",
        "colab_type": "code",
        "colab": {}
      },
      "source": [
        "# 必要なライブラリのインポート\n",
        "from sklearn.datasets import fetch_20newsgroups\n",
        "from pprint import pprint\n",
        "\n",
        "# データセットの読み込み\n",
        "train_set = fetch_20newsgroups(subset='train', random_state=42)\n",
        "test_set = fetch_20newsgroups(subset='test', random_state=42)\n",
        "\n",
        "# 訓練データとテストデータの準備\n",
        "X_train = train_set.data\n",
        "y_train = train_set.target\n",
        "X_test = test_set.data\n",
        "y_test = test_set.target\n",
        "\n",
        "# 20種類のカテゴリ名・1番目の記事内容とカテゴリラベルの表示\n",
        "print('カテゴリ一覧')\n",
        "pprint(train_set.target_names)\n",
        "print('\\n')\n",
        "print('記事その1')\n",
        "print(f'News Script:\\n{X_train[0]}')\n",
        "print('記事その1のカテゴリ')\n",
        "print(f'Text Category label: {y_train[0]}')"
      ],
      "execution_count": 0,
      "outputs": []
    },
    {
      "cell_type": "code",
      "metadata": {
        "id": "xBorw1-yT253",
        "colab_type": "code",
        "colab": {}
      },
      "source": [
        "# 必要なライブラリのインポート\n",
        "from sklearn.feature_extraction.text import CountVectorizer\n",
        "\n",
        "# BoW表現への変換（テキストをベクトル化）\n",
        "vectorizer = CountVectorizer(stop_words='english')\n",
        "vectorizer.fit(X_train)\n",
        "X_train_bow = vectorizer.transform(X_train)\n",
        "X_test_bow = vectorizer.transform(X_test)\n",
        "\n",
        "# 1番目の文書のBoW表現のベクトルを表示\n",
        "print('(テキスト番号, 単語番号)  出現回数')\n",
        "print(X_train_bow[0])\n",
        "print('\\nBoW表現ベクトル')\n",
        "print(X_train_bow[0].toarray())"
      ],
      "execution_count": 0,
      "outputs": []
    },
    {
      "cell_type": "code",
      "metadata": {
        "id": "XrituPaLVsw5",
        "colab_type": "code",
        "colab": {}
      },
      "source": [
        "# 必要なライブラリのインポート\n",
        "from sklearn.naive_bayes import MultinomialNB\n",
        "\n",
        "# MultinomialNBの適用(alpha=0.4)\n",
        "mnb = MultinomialNB(alpha=0.4)\n",
        "mnb.fit(X_train_bow, y_train)\n",
        "\n",
        "# Accuracyの表示\n",
        "print(f'Train Accuracy: {mnb.score(X_train_bow, y_train):.3f}')\n",
        "print(f'Test Accuracy: {mnb.score(X_test_bow, y_test):.3f}')"
      ],
      "execution_count": 0,
      "outputs": []
    },
    {
      "cell_type": "code",
      "metadata": {
        "id": "tghbXje5VtVs",
        "colab_type": "code",
        "colab": {}
      },
      "source": [
        "# MultinomialNBの適用(alpha=0.001)\n",
        "mnb_small = MultinomialNB(alpha=0.001)\n",
        "mnb_small.fit(X_train_bow, y_train)\n",
        "\n",
        "# MultinomialNBの適用(alpha=100)\n",
        "mnb_large = MultinomialNB(alpha=100)\n",
        "mnb_large.fit(X_train_bow, y_train)\n",
        "\n",
        "# Accuracyの表示\n",
        "print(f'Train Accuracy(alpha=0.001): {mnb_small.score(X_train_bow, y_train):.3f}')\n",
        "print(f'Test Accuracy(alpha=0.001): {mnb_small.score(X_test_bow, y_test):.3f}')\n",
        "print(f'Train Accuracy(alpha=100): {mnb_large.score(X_train_bow, y_train):.3f}')\n",
        "print(f'Test Accuracy(alpha=100): {mnb_large.score(X_test_bow, y_test):.3f}')"
      ],
      "execution_count": 0,
      "outputs": []
    }
  ]
}