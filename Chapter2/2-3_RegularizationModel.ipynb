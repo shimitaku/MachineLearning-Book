{
  "nbformat": 4,
  "nbformat_minor": 0,
  "metadata": {
    "colab": {
      "name": "2-2_RegularizationModel.ipynb",
      "provenance": [],
      "collapsed_sections": []
    },
    "kernelspec": {
      "name": "python3",
      "display_name": "Python 3"
    }
  },
  "cells": [
    {
      "cell_type": "code",
      "metadata": {
        "id": "MYCiXZLgNgOL",
        "colab_type": "code",
        "colab": {}
      },
      "source": [
        "!pip install mglearn"
      ],
      "execution_count": 0,
      "outputs": []
    },
    {
      "cell_type": "code",
      "metadata": {
        "id": "FPvKwfjUQoDh",
        "colab_type": "code",
        "colab": {}
      },
      "source": [
        "# 必要なライブラリのインポート\n",
        "from sklearn.model_selection import train_test_split\n",
        "from mglearn.datasets import load_extended_boston\n",
        "\n",
        "# データセットの読み込み\n",
        "X, y = load_extended_boston()\n",
        "\n",
        "# 訓練データとテストデータに分割\n",
        "X_train, X_test, y_train, y_test = train_test_split(X, y, random_state=0)"
      ],
      "execution_count": 0,
      "outputs": []
    },
    {
      "cell_type": "code",
      "metadata": {
        "id": "3BSsBkRIQsUS",
        "colab_type": "code",
        "colab": {}
      },
      "source": [
        "# 必要なライブラリのインポート\n",
        "from sklearn import linear_model\n",
        "\n",
        "#L2正則化（Ridge回帰）の適用\n",
        "ridge = linear_model.Ridge(alpha=1.0, random_state=0)\n",
        "ridge.fit(X_train, y_train)\n",
        "\n",
        "# バイアスパラメータと重みパラメータ先頭4個の表示\n",
        "print(f'intercept: {ridge.intercept_:.2f}')\n",
        "print(f'coef: {ridge.coef_[:4]}')\n",
        "\n",
        "# 訓練データとテストデータでモデルを評価\n",
        "print(f'Train score: {ridge.score(X_train, y_train):.2f}')\n",
        "print(f'Test score: {ridge.score(X_test, y_test):.2f}')"
      ],
      "execution_count": 0,
      "outputs": []
    },
    {
      "cell_type": "code",
      "metadata": {
        "id": "sLmOKmLHQ29r",
        "colab_type": "code",
        "colab": {}
      },
      "source": [
        "# 必要なライブラリのインポート\n",
        "import numpy as np\n",
        "\n",
        "# L1正則化（Lasso）の適用\n",
        "lasso = linear_model.Lasso(alpha=0.01, max_iter=2000, random_state=0)\n",
        "lasso.fit(X_train, y_train)\n",
        "\n",
        "# 値が0以外の重みパラメータを表示\n",
        "print(f'Number of nonzero parameters: {np.count_nonzero(lasso.coef_)}')\n",
        "\n",
        "# 訓練データとテストデータでモデルを評価\n",
        "print(f'Train score:{lasso.score(X_train, y_train):.2f}')\n",
        "print(f'Test score:{lasso.score(X_test, y_test):.2f}')"
      ],
      "execution_count": 0,
      "outputs": []
    }
  ]
}