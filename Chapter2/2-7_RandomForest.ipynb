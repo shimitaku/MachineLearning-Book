{
  "nbformat": 4,
  "nbformat_minor": 0,
  "metadata": {
    "colab": {
      "name": "2-6_RandomForest.ipynb",
      "provenance": []
    },
    "kernelspec": {
      "name": "python3",
      "display_name": "Python 3"
    }
  },
  "cells": [
    {
      "cell_type": "code",
      "metadata": {
        "id": "VC5NsTPTRb-z",
        "colab_type": "code",
        "colab": {}
      },
      "source": [
        "# 必要なライブラリのインポート\n",
        "from sklearn.datasets import load_wine\n",
        "from sklearn.model_selection import train_test_split\n",
        "\n",
        "# データセットの準備\n",
        "wine = load_wine()\n",
        "X_train, X_test, y_train, y_test= train_test_split(wine.data, wine.target, random_state=41)"
      ],
      "execution_count": 0,
      "outputs": []
    },
    {
      "cell_type": "code",
      "metadata": {
        "id": "Rep1aEmBRo8v",
        "colab_type": "code",
        "colab": {}
      },
      "source": [
        "# ランダムフォレストをインポート\n",
        "from sklearn.ensemble import RandomForestClassifier\n",
        "\n",
        "# ランダムフォレストの適用（決定木の数を7、特徴量の数を3、分割基準をジニ不純度に設定）\n",
        "forest = RandomForestClassifier(n_estimators=7, max_features=3, max_depth=3,\n",
        "                                criterion='gini', random_state=41)\n",
        "forest.fit(X_train, y_train)\n",
        "\n",
        "# Accuracyの表示\n",
        "print(f'Train Accuracy: {forest.score(X_train, y_train):.3f}')\n",
        "print(f'Test Accuracy: {forest.score(X_test, y_test):.3f}')"
      ],
      "execution_count": 0,
      "outputs": []
    },
    {
      "cell_type": "code",
      "metadata": {
        "id": "ZPc2v3iYRtkv",
        "colab_type": "code",
        "colab": {}
      },
      "source": [
        "import matplotlib.pyplot as plt\n",
        "plt.style.use('seaborn-darkgrid')\n",
        "\n",
        "# 特徴量の重要度を可視化\n",
        "n_features = wine.data.shape[1]\n",
        "plt.title('Feature Importances')\n",
        "plt.bar(range(n_features), forest.feature_importances_, align='center')\n",
        "plt.xticks(range(n_features), wine.feature_names, rotation=90)\n",
        "plt.xlim([-1, X_train.shape[1]])\n",
        "plt.show()"
      ],
      "execution_count": 0,
      "outputs": []
    }
  ]
}