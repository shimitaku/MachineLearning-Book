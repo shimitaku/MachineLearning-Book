{
  "nbformat": 4,
  "nbformat_minor": 0,
  "metadata": {
    "colab": {
      "name": "2-1_LinearRegression.ipynb",
      "provenance": [],
      "collapsed_sections": []
    },
    "kernelspec": {
      "name": "python3",
      "display_name": "Python 3"
    }
  },
  "cells": [
    {
      "cell_type": "code",
      "metadata": {
        "id": "d50muacv5UZd",
        "colab_type": "code",
        "colab": {}
      },
      "source": [
        "!pip install mglearn"
      ],
      "execution_count": 0,
      "outputs": []
    },
    {
      "cell_type": "code",
      "metadata": {
        "id": "VAvY6BZM5nDA",
        "colab_type": "code",
        "colab": {}
      },
      "source": [
        "# 必要なライブラリのインポート\n",
        "from sklearn.model_selection import train_test_split\n",
        "from mglearn.datasets import load_extended_boston\n",
        "\n",
        "# データセットの読み込み\n",
        "X, y = load_extended_boston()\n",
        "\n",
        "# 訓練データとテストデータに分割\n",
        "X_train, X_test, y_train, y_test = train_test_split(X, y, random_state=0)"
      ],
      "execution_count": 0,
      "outputs": []
    },
    {
      "cell_type": "code",
      "metadata": {
        "id": "B50Murqe6x2H",
        "colab_type": "code",
        "colab": {}
      },
      "source": [
        "# 必要なライブラリのインポート\n",
        "import matplotlib.pyplot as plt\n",
        "from sklearn import linear_model\n",
        "plt.style.use('seaborn-darkgrid')  # グラフのスタイルを変換\n",
        "\n",
        "# 住居の平均部屋数の列のみを使用\n",
        "X_train_single = X_train[:, 5].reshape(-1, 1)\n",
        "X_test_single = X_test[:, 5].reshape(-1, 1)\n",
        "\n",
        "# 単回帰モデルの適用\n",
        "lm_single = linear_model.LinearRegression()\n",
        "lm_single.fit(X_train_single, y_train)\n",
        "\n",
        "# 構築した単回帰モデルで訓練データを予測\n",
        "y_pred_train = lm_single.predict(X_train_single)\n",
        "\n",
        "# 学習データと学習した単回帰モデルの可視化\n",
        "plt.xlabel('RM')    # x軸のラベルを設定\n",
        "plt.ylabel('MEDV')    # y軸のラベルを設定\n",
        "plt.scatter(X_train_single, y_train)    # 各データ点（散布図）を作図\n",
        "plt.plot(X_train_single, y_pred_train, color='red',linewidth=2)    #回帰した 直線を作図\n",
        "plt.show()    # 作成したグラフを描画"
      ],
      "execution_count": 0,
      "outputs": []
    },
    {
      "cell_type": "code",
      "metadata": {
        "id": "v8SE3oPq8dEg",
        "colab_type": "code",
        "colab": {}
      },
      "source": [
        "# バイアスパラメータと重みパラメータの表示\n",
        "print(f'intercept: {lm_single.intercept_:.2f}')\n",
        "print(f'coef: {lm_single.coef_[0]:.2f}')"
      ],
      "execution_count": 0,
      "outputs": []
    },
    {
      "cell_type": "code",
      "metadata": {
        "id": "O1Pie2Mp87VP",
        "colab_type": "code",
        "colab": {}
      },
      "source": [
        "# 訓練データとテストデータでモデルを評価\n",
        "print(f'Train score: {lm_single.score(X_train_single, y_train):.2f}')\n",
        "print(f'Test score: {lm_single.score(X_test_single, y_test):.2f}')"
      ],
      "execution_count": 0,
      "outputs": []
    },
    {
      "cell_type": "code",
      "metadata": {
        "id": "UtQT53Vi9hpO",
        "colab_type": "code",
        "colab": {}
      },
      "source": [
        "# 重回帰モデルを適用する\n",
        "lm = linear_model.LinearRegression()\n",
        "lm.fit(X_train, y_train)\n",
        "\n",
        "# バイアスパラメータと重みパラメータ先頭4個の表示\n",
        "print(f'intercept: {lm.intercept_:.2f}')\n",
        "print(f'coef: {lm.coef_[:4]}')\n",
        "\n",
        "# 訓練データとテストデータでモデルを評価\n",
        "print(f'Train score: {lm.score(X_train, y_train):.2f}')\n",
        "print(f'Test score: {lm.score(X_test, y_test):.2f}')"
      ],
      "execution_count": 0,
      "outputs": []
    }
  ]
}