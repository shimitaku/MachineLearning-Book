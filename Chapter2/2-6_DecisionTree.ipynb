{
  "nbformat": 4,
  "nbformat_minor": 0,
  "metadata": {
    "colab": {
      "name": "2-5_DecisionTree.ipynb",
      "provenance": []
    },
    "kernelspec": {
      "name": "python3",
      "display_name": "Python 3"
    }
  },
  "cells": [
    {
      "cell_type": "code",
      "metadata": {
        "id": "ZYa0WQFELReT",
        "colab_type": "code",
        "colab": {}
      },
      "source": [
        "# 必要なライブラリのインポート\n",
        "from sklearn.datasets import load_wine\n",
        "from sklearn.tree import DecisionTreeClassifier\n",
        "from sklearn.model_selection import train_test_split\n",
        "\n",
        "# データセットの準備\n",
        "wine = load_wine()\n",
        "X_train, X_test, y_train, y_test= train_test_split(wine.data, wine.target, random_state=41)\n",
        "\n",
        "# 決定木の適用（木の深さの制限なし, 分割基準をジニ不純度に設定）\n",
        "tree = DecisionTreeClassifier(max_depth=None, criterion='gini', random_state=41)\n",
        "tree.fit(X_train, y_train)\n",
        "\n",
        "# Accuracyの表示\n",
        "print(f'Train Accuracy: {tree.score(X_train, y_train):.3f}')\n",
        "print(f'Test Accuracy: {tree.score(X_test, y_test):.3f}')"
      ],
      "execution_count": 0,
      "outputs": []
    },
    {
      "cell_type": "code",
      "metadata": {
        "id": "gIkz-oAvLb3B",
        "colab_type": "code",
        "colab": {}
      },
      "source": [
        "# 必要なライブラリのインポート\n",
        "import graphviz\n",
        "from sklearn.tree import export_graphviz\n",
        "\n",
        "# Graphviz形式で決定木をエクスポート\n",
        "dot_data = export_graphviz(tree, out_file=None, impurity=False, filled=True, feature_names=wine.feature_names, class_names=wine.target_names)\n",
        "\n",
        "# Graphviz形式の決定木を表示\n",
        "graph = graphviz.Source(dot_data)  \n",
        "graph"
      ],
      "execution_count": 0,
      "outputs": []
    },
    {
      "cell_type": "code",
      "metadata": {
        "id": "E3QsdjG-LnsY",
        "colab_type": "code",
        "colab": {}
      },
      "source": [
        "# 決定木の適用（木の深さを3, 分割基準をジニ不純度に設定）\n",
        "tree = DecisionTreeClassifier(max_depth=3, criterion='gini', random_state=41)\n",
        "tree.fit(X_train, y_train)\n",
        "\n",
        "# Accuracyの表示\n",
        "print(f'Train Accuracy: {tree.score(X_train, y_train):.3f}')\n",
        "print(f'Test Accuracy: {tree.score(X_test, y_test):.3f}')"
      ],
      "execution_count": 0,
      "outputs": []
    },
    {
      "cell_type": "code",
      "metadata": {
        "id": "-t8DMm3dMk-X",
        "colab_type": "code",
        "colab": {}
      },
      "source": [
        "# 必要なライブラリのインポート\n",
        "import numpy as np\n",
        "import matplotlib.pyplot as plt\n",
        "plt.style.use('seaborn-darkgrid')\n",
        "\n",
        "# 特徴量の重要度を可視化\n",
        "n_features = wine.data.shape[1]\n",
        "plt.title('Feature Importances')\n",
        "plt.bar(range(n_features), tree.feature_importances_, align='center')\n",
        "plt.xticks(range(n_features), wine.feature_names, rotation=90)\n",
        "plt.xlim([-1, X_train.shape[1]])\n",
        "plt.show()"
      ],
      "execution_count": 0,
      "outputs": []
    }
  ]
}