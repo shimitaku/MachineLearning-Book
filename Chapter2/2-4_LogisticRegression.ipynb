{
  "nbformat": 4,
  "nbformat_minor": 0,
  "metadata": {
    "colab": {
      "name": "2-3_LogisticRegression.ipynb",
      "provenance": []
    },
    "kernelspec": {
      "name": "python3",
      "display_name": "Python 3"
    }
  },
  "cells": [
    {
      "cell_type": "code",
      "metadata": {
        "id": "ObaQTWHX6Z29",
        "colab_type": "code",
        "colab": {}
      },
      "source": [
        "# 必要なライブラリのインポート\n",
        "import numpy as np\n",
        "import pandas as pd\n",
        "import matplotlib.pyplot as plt\n",
        "plt.style.use('seaborn-darkgrid')\n",
        "\n",
        "# 乱数のシードを固定\n",
        "np.random.seed(0)  \n",
        "\n",
        "# 2次元ガウス分布で模擬データ100人分を作成\n",
        "mean = [10, 10]  # 平均値\n",
        "cov = [[10, 3], [3, 10]]  # 分散共分散行列\n",
        "x1, y1 = np.random.multivariate_normal(mean, cov, 100).T  # 2次元データ生成\n",
        "true_false = np.random.rand(100) > 0.9  # 0-1の一様乱数の10%がTrue\n",
        "label1 = np.where(true_false, 1, 0)  # Advanced indexingでLabelデータ生成\n",
        "\n",
        "# 次元ガウス分布で模擬データ100人分を作成\n",
        "mean = [20, 20]  # 平均値\n",
        "cov = [[8, 4], [4, 8]]  # 分散共分散行列\n",
        "x2, y2 = np.random.multivariate_normal(mean, cov, 100).T\n",
        "true_false = np.random.rand(100) > 0.1  # 0-1の一様乱数の90%がTrue  \n",
        "label2 = np.where(true_false, 1, 0)  # Advanced indexingでLabelデータ生成\n",
        "\n",
        "# データを描画\n",
        "X = (np.r_[x1, x2])  # 配列の結合\n",
        "Y = (np.r_[y1, y2])\n",
        "label = (np.r_[label1, label2])\n",
        "\n",
        "# ラベル1の継続会員とラベル0の退会会員をAdvanced indexingで取り出して描画\n",
        "plt.scatter(X[label == 1], Y[label == 1], marker='^', s=30,\n",
        "            c='blue', edgecolors='', label='1:continue')\n",
        "plt.scatter(X[label == 0], Y[label == 0], marker=',', s=30,\n",
        "            c='red',  edgecolors='', label='0:withdraw')\n",
        "plt.xlabel(\"Annual number of purchases\")\n",
        "plt.ylabel(\"Average purchase price\")\n",
        "plt.legend(loc=\"lower right\")  # 凡例の出現位置を制御\n",
        "plt.show()"
      ],
      "execution_count": 0,
      "outputs": []
    },
    {
      "cell_type": "code",
      "metadata": {
        "id": "RCXUHNOY6zdk",
        "colab_type": "code",
        "colab": {}
      },
      "source": [
        "!pip install mlxtend"
      ],
      "execution_count": 0,
      "outputs": []
    },
    {
      "cell_type": "code",
      "metadata": {
        "id": "eNMBqdBP7B8Q",
        "colab_type": "code",
        "colab": {}
      },
      "source": [
        "# 必要なライブラリのインポート\n",
        "from sklearn import linear_model\n",
        "from sklearn.model_selection import train_test_split\n",
        "from mlxtend.plotting import plot_decision_regions\n",
        "\n",
        "# 訓練データとテストデータに分割\n",
        "Data = (np.c_[X, Y])\n",
        "X_train, X_test, y_train, y_test = train_test_split(Data, label, random_state=0)\n",
        "\n",
        "# ロジスティック回帰の適用\n",
        "clf = linear_model.LogisticRegression(random_state=0)\n",
        "clf.fit(X_train, y_train)\n",
        "\n",
        "# 学習した識別平面とテストデータをプロットする\n",
        "plot_decision_regions(X_test, y_test, clf=clf, res=0.01, legend=2)"
      ],
      "execution_count": 0,
      "outputs": []
    },
    {
      "cell_type": "code",
      "metadata": {
        "id": "hJfQtpRn7eMP",
        "colab_type": "code",
        "colab": {}
      },
      "source": [
        "# テストデータで性能評価\n",
        "print(f'Accuracy: {clf.score(X_test, y_test):.2f}') \n",
        "\n",
        "# 未知のデータを分類\n",
        "label_prenew = clf.predict([[20, 15]])  # 適当なデータ[20,15]を分類\n",
        "print(f'新たな顧客のラベルは{label_prenew}です。')"
      ],
      "execution_count": 0,
      "outputs": []
    }
  ]
}