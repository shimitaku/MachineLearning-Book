{
  "nbformat": 4,
  "nbformat_minor": 0,
  "metadata": {
    "colab": {
      "name": "2-4_SVC.ipynb",
      "provenance": [],
      "collapsed_sections": []
    },
    "kernelspec": {
      "name": "python3",
      "display_name": "Python 3"
    }
  },
  "cells": [
    {
      "cell_type": "code",
      "metadata": {
        "id": "HYN_7SIrjQA_",
        "colab_type": "code",
        "colab": {}
      },
      "source": [
        "# 必要なライブラリのインポート\n",
        "import numpy as np\n",
        "import pandas as pd\n",
        "import seaborn as sns\n",
        "import matplotlib.pyplot as plt\n",
        "from sklearn.linear_model import LogisticRegression\n",
        "from sklearn import preprocessing\n",
        "\n",
        "plt.style.use('seaborn-darkgrid') \n",
        "\n",
        "# データの作成\n",
        "X = np.zeros((20, 2))\n",
        "X[0:10, 1] = range(0, 10)\n",
        "X[10:20, 1] = range(0, 10)\n",
        "X[0, 0] = 1.0\n",
        "X[9, 0] = 1.0\n",
        "X[1:9, 0] = 3.0\n",
        "X[10:20, 0] = range(-1, -11, -1)\n",
        "X[9, 0] = 1\n",
        "X[19, 0] = -1\n",
        "\n",
        "y = np.zeros((20))\n",
        "y[10:20] = 1.0\n",
        "y = y.astype(np.int8)\n",
        "\n",
        "# 描画\n",
        "plt.scatter(X[:, 0], X[:, 1], c=y, cmap=plt.cm.coolwarm)\n",
        "plt.show()"
      ],
      "execution_count": 0,
      "outputs": []
    },
    {
      "cell_type": "code",
      "metadata": {
        "id": "QchlFb4WjW6x",
        "colab_type": "code",
        "colab": {}
      },
      "source": [
        "!pip install mlxtend\n",
        "\n",
        "# 必要なライブラリのインポート\n",
        "from mlxtend.plotting import plot_decision_regions\n",
        "\n",
        "# 変数Xの標準化\n",
        "sc = preprocessing.StandardScaler()\n",
        "sc.fit(X)\n",
        "X_std = sc.transform(X)\n",
        "\n",
        "# ロジスティック回帰\n",
        "lr = LogisticRegression(random_state=0)\n",
        "lr.fit(X_std, y)\n",
        "plot_decision_regions(X_std, y, clf=lr, res=0.01)"
      ],
      "execution_count": 0,
      "outputs": []
    },
    {
      "cell_type": "code",
      "metadata": {
        "id": "xSlgyebsjl_A",
        "colab_type": "code",
        "colab": {}
      },
      "source": [
        "# 必要なライブラリのインポート\n",
        "from sklearn import svm\n",
        "\n",
        "# LinearSVCの適用\n",
        "clf = svm.LinearSVC(random_state=0)\n",
        "clf.fit(X_std, y)\n",
        "plot_decision_regions(X_std, y, clf=clf, res=0.01)"
      ],
      "execution_count": 0,
      "outputs": []
    },
    {
      "cell_type": "code",
      "metadata": {
        "id": "nC3b3Yf9k0rv",
        "colab_type": "code",
        "colab": {}
      },
      "source": [
        "# ラベル1の一番上の点を右にずらす\n",
        "X[19, 0] = 2\n",
        "plt.scatter(X[:, 0], X[:, 1], c=y, cmap=plt.cm.coolwarm)\n",
        "plt.show()"
      ],
      "execution_count": 0,
      "outputs": []
    },
    {
      "cell_type": "code",
      "metadata": {
        "id": "kkhlnqyQniPG",
        "colab_type": "code",
        "colab": {}
      },
      "source": [
        "# 変数Xの標準化\n",
        "sc = preprocessing.StandardScaler()\n",
        "sc.fit(X)\n",
        "X_std = sc.transform(X)\n",
        "\n",
        "# LinearSVCの適用\n",
        "clf = svm.LinearSVC(random_state=0)\n",
        "clf.fit(X_std, y)\n",
        "plot_decision_regions(X_std, y, clf=clf, res=0.01)"
      ],
      "execution_count": 0,
      "outputs": []
    },
    {
      "cell_type": "code",
      "metadata": {
        "id": "Ez-PHJq7o3oG",
        "colab_type": "code",
        "colab": {}
      },
      "source": [
        "# LinearSVC(C=0.2)の適用\n",
        "clf = svm.LinearSVC(C=0.2, random_state=0)\n",
        "clf.fit(X_std, y)\n",
        "plot_decision_regions(X_std, y, clf=clf, res=0.01)"
      ],
      "execution_count": 0,
      "outputs": []
    }
  ]
}